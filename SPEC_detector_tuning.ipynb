{
 "cells": [
  {
   "cell_type": "markdown",
   "metadata": {},
   "source": [
    "# SPEC Detector tuning of H2RG\n",
    "## Images in /sdata600/spec_night/04dec18\n",
    "## nirspec_data/spec_characterization/spec_night/04dec18 on local machine\n",
    "\n",
    "We ran an overnight script on the SPEC detector in a series of configurations to measure dark current and read noise"
   ]
  },
  {
   "cell_type": "code",
   "execution_count": 49,
   "metadata": {},
   "outputs": [],
   "source": [
    "#import modules\n",
    "from astropy.io import fits\n",
    "import numpy as np\n",
    "import matplotlib.pyplot as plt\n",
    "import glob\n",
    "from scipy.stats import linregress"
   ]
  },
  {
   "cell_type": "code",
   "execution_count": 47,
   "metadata": {},
   "outputs": [],
   "source": [
    "# import data\n",
    "# fowler plot frames are: 90 sec exposure, MCDS, varying numreads\n",
    "# 4-13 numreads=1\n",
    "# 14-23 nr=2\n",
    "# 24-33 nr=4\n",
    "# 34-43 nr=8\n",
    "# 44-53 nr=16\n",
    "# 54-63 nr=32\n",
    "\n",
    "# dark current frames are: \n",
    "# 44-53: 90 sec, nr=16\n",
    "# 64-73: 300 sec, nr=16\n",
    "# 74-83: 600 sec, nr=16\n",
    "# 84-93: 1200 sec, nr=16\n",
    "# 94-103: 1800 sec, nr=16\n",
    "\n",
    "files=sorted(glob.glob('/users/emartin/nirspec_data/spec_characterization/spec_night/04dec18/*.fits'))\n",
    "fowler=files[3:63]\n",
    "dark=files[43:53]+files[63:103]\n",
    "g=2.15"
   ]
  },
  {
   "cell_type": "markdown",
   "metadata": {},
   "source": [
    "# Read noise tests"
   ]
  },
  {
   "cell_type": "code",
   "execution_count": 31,
   "metadata": {},
   "outputs": [],
   "source": [
    "def readnoise(im):\n",
    "    hdu=fits.open(im)\n",
    "    data=hdu[0].data\n",
    "    nreads=hdu[0].header['NUMREADS']\n",
    "    #get standard deviation using median\n",
    "    x=data\n",
    "    sd=np.sqrt(np.median(np.abs(x-np.median(x))**2))\n",
    "    rn=sd*g\n",
    "    return nreads, rn"
   ]
  },
  {
   "cell_type": "code",
   "execution_count": 39,
   "metadata": {},
   "outputs": [],
   "source": [
    "reads=[]\n",
    "rn=[]\n",
    "\n",
    "for f in fowler:\n",
    "    n, r = readnoise(f)\n",
    "    reads.append(n)\n",
    "    rn.append(r)\n",
    "\n",
    "reads=np.array(reads)   \n",
    "rn=np.array(rn)\n",
    "\n",
    "numreads=[1,2,4,8,16,32]\n",
    "rn_avg=[]\n",
    "rn_std=[]\n",
    "\n",
    "#get average readnoise for each numread\n",
    "for n in numreads:\n",
    "    i=np.where(reads==n)[0]\n",
    "    rn_avg.append(np.median(rn[i]))\n",
    "    rn_std.append(np.std(rn[i]))\n",
    "    \n"
   ]
  },
  {
   "cell_type": "code",
   "execution_count": 62,
   "metadata": {
    "scrolled": true
   },
   "outputs": [
    {
     "data": {
      "image/png": "[encoded data removed]",
      "text/plain": [
       "<Figure size 432x288 with 1 Axes>"
      ]
     },
     "metadata": {
      "needs_background": "light"
     },
     "output_type": "display_data"
    }
   ],
   "source": [
    "plt.errorbar(numreads, rn_avg, yerr=rn_std, ecolor='b', linestyle='none')\n",
    "plt.scatter(numreads, rn_avg, color='k')\n",
    "plt.xlabel('# of Reads')\n",
    "plt.ylabel('Read Noise (e-)')\n",
    "plt.savefig('/users/emartin/nirspec_upgrade/plots/fowler_plot_04dec18.pdf')\n",
    "plt.show()"
   ]
  },
  {
   "cell_type": "markdown",
   "metadata": {},
   "source": [
    "# Dark Current Tests"
   ]
  },
  {
   "cell_type": "code",
   "execution_count": 56,
   "metadata": {},
   "outputs": [],
   "source": [
    "def darkcurrent(im):\n",
    "    hdu=fits.open(im)\n",
    "    data=hdu[0].data[10:200, 10:200]\n",
    "    itime=hdu[0].header['RDITIME']\n",
    "    #sigma clip the image, only use \n",
    "    x=data.flatten()\n",
    "    med=np.median(x)\n",
    "    sd=np.sqrt(np.median(np.abs(x-med)**2))\n",
    "    w=np.where(np.abs(x-med) > 3*sd)\n",
    "    \n",
    "    x_cut=np.delete(x,w)\n",
    "    \n",
    "    dc=np.median(x_cut)*g\n",
    "    \n",
    "    return itime, dc"
   ]
  },
  {
   "cell_type": "code",
   "execution_count": 57,
   "metadata": {},
   "outputs": [],
   "source": [
    "med_counts=[]\n",
    "time=[]\n",
    "for i in (dark):\n",
    "    t,d = darkcurrent(i)\n",
    "    time.append(t)\n",
    "    med_counts.append(d)\n",
    "\n",
    "med_counts=np.array(med_counts)\n",
    "time=np.array(time)\n",
    "\n",
    "#fit line to scatter\n",
    "slope, intercept, r_value, p_value, std_err = linregress(time, med_counts)"
   ]
  },
  {
   "cell_type": "code",
   "execution_count": 61,
   "metadata": {},
   "outputs": [
    {
     "data": {
      "image/png": "[encoded data removed]",
      "text/plain": [
       "<Figure size 432x288 with 1 Axes>"
      ]
     },
     "metadata": {
      "needs_background": "light"
     },
     "output_type": "display_data"
    }
   ],
   "source": [
    "plt.scatter(time, med_counts)\n",
    "plt.plot(time, slope*time + intercept)\n",
    "plt.xlabel('time (sec)')\n",
    "plt.ylabel('signal (e-)')\n",
    "plt.savefig('/users/emartin/nirspec_upgrade/plots/dark_current_04dec18.pdf')\n",
    "plt.show()"
   ]
  },
  {
   "cell_type": "code",
   "execution_count": 59,
   "metadata": {},
   "outputs": [
    {
     "data": {
      "text/plain": [
       "0.06865292218994305"
      ]
     },
     "execution_count": 59,
     "metadata": {},
     "output_type": "execute_result"
    }
   ],
   "source": [
    "slope"
   ]
  },
  {
   "cell_type": "code",
   "execution_count": null,
   "metadata": {},
   "outputs": [],
   "source": []
  }
 ],
 "metadata": {
  "kernelspec": {
   "display_name": "Python 2",
   "language": "python",
   "name": "python2"
  },
  "language_info": {
   "codemirror_mode": {
    "name": "ipython",
    "version": 2
   },
   "file_extension": ".py",
   "mimetype": "text/x-python",
   "name": "python",
   "nbconvert_exporter": "python",
   "pygments_lexer": "ipython2",
   "version": "2.7.15"
  }
 },
 "nbformat": 4,
 "nbformat_minor": 2
}
